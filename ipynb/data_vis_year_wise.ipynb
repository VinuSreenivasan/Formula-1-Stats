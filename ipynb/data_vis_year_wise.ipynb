{
 "cells": [
  {
   "cell_type": "code",
   "execution_count": 5,
   "metadata": {
    "collapsed": true
   },
   "outputs": [],
   "source": [
    "import pandas as pd\n",
    "import numpy as np\n",
    "import csv\n",
    "from itertools import groupby"
   ]
  },
  {
   "cell_type": "code",
   "execution_count": 8,
   "metadata": {
    "collapsed": true
   },
   "outputs": [],
   "source": [
    "complete_data = pd.read_csv('C:/Users/sanja/Desktop/Courses/Data vis/Project/formula-1-race-data-19502017/final_f1_stats.csv')"
   ]
  },
  {
   "cell_type": "code",
   "execution_count": 3,
   "metadata": {
    "collapsed": false
   },
   "outputs": [],
   "source": [
    "#unique_years = set(complete_data['season'])"
   ]
  },
  {
   "cell_type": "code",
   "execution_count": null,
   "metadata": {
    "collapsed": true
   },
   "outputs": [],
   "source": [
    "# unique_values = set(data['column_of_interest'])\n",
    "\n",
    "# for value in unique_values:\n",
    "#     filename = value + \".csv\"         \n",
    "#     path = r\"C:/myrequiredpath/\"                        \n",
    "#     data.to_csv(path+filename, index=False)"
   ]
  },
  {
   "cell_type": "code",
   "execution_count": 10,
   "metadata": {
    "collapsed": false
   },
   "outputs": [],
   "source": [
    "for i, g in complete_data.groupby('season'):\n",
    "    g.to_csv('C:/Users/sanja/Desktop/Courses/Data vis/Project/formula-1-race-data-19502017/Year-wise-data/{}.csv'.format(i), header=True, index_label=False)\n",
    "\n",
    "# for year in unique_years:\n",
    "#     filename = year+\".csv\"         \n",
    "#     path = \"C:/Users/sanja/Desktop/Courses/Data vis/Project/formula-1-race-data-19502017/Year-wise-data/\"                    \n",
    "#     complete_data[complete_data['season']==year].to_csv(path_filename, index=False)\n",
    "    #complete_data.to_csv(path+filename, index=False)"
   ]
  },
  {
   "cell_type": "code",
   "execution_count": null,
   "metadata": {
    "collapsed": true
   },
   "outputs": [],
   "source": []
  },
  {
   "cell_type": "code",
   "execution_count": null,
   "metadata": {
    "collapsed": true
   },
   "outputs": [],
   "source": []
  }
 ],
 "metadata": {
  "kernelspec": {
   "display_name": "Python 2",
   "language": "python",
   "name": "python2"
  },
  "language_info": {
   "codemirror_mode": {
    "name": "ipython",
    "version": 2
   },
   "file_extension": ".py",
   "mimetype": "text/x-python",
   "name": "python",
   "nbconvert_exporter": "python",
   "pygments_lexer": "ipython2",
   "version": "2.7.13"
  }
 },
 "nbformat": 4,
 "nbformat_minor": 2
}
